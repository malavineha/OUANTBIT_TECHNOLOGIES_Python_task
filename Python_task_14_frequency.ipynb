{
  "nbformat": 4,
  "nbformat_minor": 0,
  "metadata": {
    "colab": {
      "provenance": []
    },
    "kernelspec": {
      "name": "python3",
      "display_name": "Python 3"
    },
    "language_info": {
      "name": "python"
    }
  },
  "cells": [
    {
      "cell_type": "code",
      "execution_count": 1,
      "metadata": {
        "id": "NNUT7QE-PiAe"
      },
      "outputs": [],
      "source": [
        "paragraph = \"apple banana apple orange banana banana\"\n"
      ]
    },
    {
      "cell_type": "markdown",
      "source": [
        "## using collection counter"
      ],
      "metadata": {
        "id": "FGWGpZCPPjvY"
      }
    },
    {
      "cell_type": "code",
      "source": [
        "from collections import Counter\n",
        "\n",
        "def count_words_with_counter(text):\n",
        "    words = text.split()\n",
        "    word_count = Counter(words)\n",
        "    return word_count"
      ],
      "metadata": {
        "id": "MUlshn_FPjSU"
      },
      "execution_count": 2,
      "outputs": []
    },
    {
      "cell_type": "code",
      "source": [
        "paragraph = \"apple banana apple orange banana banana\"\n",
        "result = count_words_with_counter(paragraph)\n",
        "for word, freq in result.items():\n",
        "    print(f\"{word}: {freq}\")\n"
      ],
      "metadata": {
        "colab": {
          "base_uri": "https://localhost:8080/"
        },
        "id": "b5PGjaI7PsjS",
        "outputId": "78e954ad-84e2-4f01-a0ee-9bdbb1d27ee6"
      },
      "execution_count": 3,
      "outputs": [
        {
          "output_type": "stream",
          "name": "stdout",
          "text": [
            "apple: 2\n",
            "banana: 3\n",
            "orange: 1\n"
          ]
        }
      ]
    },
    {
      "cell_type": "markdown",
      "source": [
        "## using Dictionary"
      ],
      "metadata": {
        "id": "Wg58fTuNPukr"
      }
    },
    {
      "cell_type": "code",
      "source": [
        "def count_words_with_dict(text):\n",
        "    words = text.split()\n",
        "    word_count = {}\n",
        "    for word in words:\n",
        "        if word in word_count:\n",
        "            word_count[word] += 1\n",
        "        else:\n",
        "            word_count[word] = 1\n",
        "    return word_count"
      ],
      "metadata": {
        "id": "3vhzvbAFPtOR"
      },
      "execution_count": 4,
      "outputs": []
    },
    {
      "cell_type": "code",
      "source": [
        "paragraph = \"apple banana apple orange banana banana\"\n",
        "result = count_words_with_dict(paragraph)\n",
        "for word, freq in result.items():\n",
        "    print(f\"{word}: {freq}\")"
      ],
      "metadata": {
        "colab": {
          "base_uri": "https://localhost:8080/"
        },
        "id": "BUOop2z-P65n",
        "outputId": "d7b64767-268c-4730-91f3-c833818340e6"
      },
      "execution_count": 5,
      "outputs": [
        {
          "output_type": "stream",
          "name": "stdout",
          "text": [
            "apple: 2\n",
            "banana: 3\n",
            "orange: 1\n"
          ]
        }
      ]
    },
    {
      "cell_type": "markdown",
      "source": [
        "## using pandas"
      ],
      "metadata": {
        "id": "z8TW9OJUQCvO"
      }
    },
    {
      "cell_type": "code",
      "source": [
        "import pandas as pd\n",
        "\n",
        "def count_words_with_pandas(text):\n",
        "    words = text.split()\n",
        "    word_series = pd.Series(words)\n",
        "    word_count = word_series.value_counts()\n",
        "    return word_count"
      ],
      "metadata": {
        "id": "uQ4wh_8KQF8C"
      },
      "execution_count": 6,
      "outputs": []
    },
    {
      "cell_type": "code",
      "source": [
        "paragraph = \"apple banana apple orange banana banana\"\n",
        "result = count_words_with_pandas(paragraph)\n",
        "for word, freq in result.items():\n",
        "    print(f\"{word}: {freq}\")\n"
      ],
      "metadata": {
        "colab": {
          "base_uri": "https://localhost:8080/"
        },
        "id": "0HjmmFqhQJFc",
        "outputId": "5b4b7fce-79df-46fa-96b4-5710d8421978"
      },
      "execution_count": 7,
      "outputs": [
        {
          "output_type": "stream",
          "name": "stdout",
          "text": [
            "banana: 3\n",
            "apple: 2\n",
            "orange: 1\n"
          ]
        }
      ]
    },
    {
      "cell_type": "markdown",
      "source": [
        "## using Comprehension"
      ],
      "metadata": {
        "id": "xHlw8soYQMjM"
      }
    },
    {
      "cell_type": "code",
      "source": [
        "def count_words_with_list(text):\n",
        "    words = text.split()\n",
        "    word_count = {word: words.count(word) for word in words}\n",
        "    return word_count"
      ],
      "metadata": {
        "id": "EoAYmkc9QJvM"
      },
      "execution_count": 8,
      "outputs": []
    },
    {
      "cell_type": "code",
      "source": [
        "paragraph = \"apple banana apple orange banana banana\"\n",
        "result = count_words_with_list(paragraph)\n",
        "for word, freq in result.items():\n",
        "    print(f\"{word}: {freq}\")"
      ],
      "metadata": {
        "colab": {
          "base_uri": "https://localhost:8080/"
        },
        "id": "Ebu1tRSFQTC-",
        "outputId": "0f8df15c-68b8-4f6f-ee52-63bd9ef9756b"
      },
      "execution_count": 9,
      "outputs": [
        {
          "output_type": "stream",
          "name": "stdout",
          "text": [
            "apple: 2\n",
            "banana: 3\n",
            "orange: 1\n"
          ]
        }
      ]
    }
  ]
}
{
  "nbformat": 4,
  "nbformat_minor": 0,
  "metadata": {
    "colab": {
      "provenance": []
    },
    "kernelspec": {
      "name": "python3",
      "display_name": "Python 3"
    },
    "language_info": {
      "name": "python"
    }
  },
  "cells": [
    {
      "cell_type": "markdown",
      "source": [
        "## manual calculation"
      ],
      "metadata": {
        "id": "YgAUF1r63Mdb"
      }
    },
    {
      "cell_type": "code",
      "execution_count": 1,
      "metadata": {
        "id": "GdEtFmwV23Hf"
      },
      "outputs": [],
      "source": [
        "data = [1, 2, 2, 3, 4]"
      ]
    },
    {
      "cell_type": "code",
      "source": [
        "mean=sum(data)/len(data)\n",
        "mean"
      ],
      "metadata": {
        "colab": {
          "base_uri": "https://localhost:8080/"
        },
        "id": "T-hIEsuV3X5t",
        "outputId": "8a739c25-7757-45b0-ab1e-1275cef3e1ce"
      },
      "execution_count": 3,
      "outputs": [
        {
          "output_type": "execute_result",
          "data": {
            "text/plain": [
              "2.4"
            ]
          },
          "metadata": {},
          "execution_count": 3
        }
      ]
    },
    {
      "cell_type": "code",
      "source": [
        "sorted_data = sorted(data)\n",
        "n = len(sorted_data)"
      ],
      "metadata": {
        "id": "_QCo_GQv3gw_"
      },
      "execution_count": 4,
      "outputs": []
    },
    {
      "cell_type": "code",
      "source": [
        "if n % 2 == 1:\n",
        "    median = sorted_data[n // 2]\n",
        "else:\n",
        "    median = (sorted_data[n // 2 - 1] + sorted_data[n // 2]) / 2\n",
        "median"
      ],
      "metadata": {
        "colab": {
          "base_uri": "https://localhost:8080/"
        },
        "id": "6cPCvtUO30O5",
        "outputId": "7da63cdd-2f9e-4894-b67f-e2eb7323c4ff"
      },
      "execution_count": 6,
      "outputs": [
        {
          "output_type": "execute_result",
          "data": {
            "text/plain": [
              "2"
            ]
          },
          "metadata": {},
          "execution_count": 6
        }
      ]
    },
    {
      "cell_type": "code",
      "source": [
        "frequency_dict = {}\n",
        "for num in data:\n",
        "    if num in frequency_dict:\n",
        "        frequency_dict[num] += 1\n",
        "    else:\n",
        "        frequency_dict[num] = 1"
      ],
      "metadata": {
        "id": "TVjFJPCy31EU"
      },
      "execution_count": 7,
      "outputs": []
    },
    {
      "cell_type": "code",
      "source": [
        "max_frequency = max(frequency_dict.values())\n",
        "max_frequency"
      ],
      "metadata": {
        "colab": {
          "base_uri": "https://localhost:8080/"
        },
        "id": "17XJy2tq4mdr",
        "outputId": "84a69617-7ac8-4b8d-e2b8-6ba91518a1fc"
      },
      "execution_count": 9,
      "outputs": [
        {
          "output_type": "execute_result",
          "data": {
            "text/plain": [
              "2"
            ]
          },
          "metadata": {},
          "execution_count": 9
        }
      ]
    },
    {
      "cell_type": "code",
      "source": [
        "mode=max_frequency\n",
        "mode"
      ],
      "metadata": {
        "colab": {
          "base_uri": "https://localhost:8080/"
        },
        "id": "WZrIA2Zg4pjX",
        "outputId": "b5554f71-a3bd-48eb-e3e5-07a2f28cda9a"
      },
      "execution_count": 11,
      "outputs": [
        {
          "output_type": "execute_result",
          "data": {
            "text/plain": [
              "2"
            ]
          },
          "metadata": {},
          "execution_count": 11
        }
      ]
    },
    {
      "cell_type": "markdown",
      "source": [
        "## using statistics module"
      ],
      "metadata": {
        "id": "EqATQRjc42pR"
      }
    },
    {
      "cell_type": "code",
      "source": [
        "import statistics\n",
        "\n",
        "data = [1, 2, 2, 3, 4]\n",
        "\n",
        "mean = statistics.mean(data)\n",
        "median = statistics.median(data)\n",
        "mode = statistics.mode(data)\n",
        "\n",
        "print(\"Mean:\", mean)\n",
        "print(\"Median:\", median)\n",
        "print(\"Mode:\", mode)\n"
      ],
      "metadata": {
        "colab": {
          "base_uri": "https://localhost:8080/"
        },
        "id": "gGIeDWHJ45RV",
        "outputId": "560e8969-755b-4143-f2c2-50901eb8b04d"
      },
      "execution_count": 12,
      "outputs": [
        {
          "output_type": "stream",
          "name": "stdout",
          "text": [
            "Mean: 2.4\n",
            "Median: 2\n",
            "Mode: 2\n"
          ]
        }
      ]
    },
    {
      "cell_type": "markdown",
      "source": [
        "## numpy for mean and median"
      ],
      "metadata": {
        "id": "ALnsVjD75DlJ"
      }
    },
    {
      "cell_type": "code",
      "source": [
        "import numpy as np\n",
        "\n",
        "data = [1, 2, 2, 3, 4]\n",
        "\n",
        "mean = np.mean(data)\n",
        "median = np.median(data)\n"
      ],
      "metadata": {
        "id": "HDhu5B9M480F"
      },
      "execution_count": 13,
      "outputs": []
    }
  ]
}
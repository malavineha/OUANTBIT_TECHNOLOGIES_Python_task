{
  "nbformat": 4,
  "nbformat_minor": 0,
  "metadata": {
    "colab": {
      "provenance": []
    },
    "kernelspec": {
      "name": "python3",
      "display_name": "Python 3"
    },
    "language_info": {
      "name": "python"
    }
  },
  "cells": [
    {
      "cell_type": "markdown",
      "source": [
        "## using for loop"
      ],
      "metadata": {
        "id": "G_AabVXKn9Q9"
      }
    },
    {
      "cell_type": "code",
      "execution_count": 2,
      "metadata": {
        "colab": {
          "base_uri": "https://localhost:8080/"
        },
        "id": "T1MAkuybJqBi",
        "outputId": "951136e0-6951-4a70-e6e8-cf5aed65c4ac"
      },
      "outputs": [
        {
          "output_type": "stream",
          "name": "stdout",
          "text": [
            "Reversed String: olleh\n"
          ]
        }
      ],
      "source": [
        "def reverse_string(s):\n",
        "    reversed_str = ''\n",
        "    for char in s:\n",
        "        reversed_str = char + reversed_str\n",
        "    return reversed_str\n",
        "\n",
        "# Input for Task 1\n",
        "input_string = \"hello\"\n",
        "output_string = reverse_string(input_string)\n",
        "print(\"Reversed String:\", output_string)\n"
      ]
    },
    {
      "cell_type": "markdown",
      "source": [
        "## using while loop"
      ],
      "metadata": {
        "id": "F3AhKReOoOzB"
      }
    },
    {
      "cell_type": "code",
      "source": [
        "def reverse_string(s):\n",
        "    reversed_s = \"\"\n",
        "    index = len(s) - 1\n",
        "    while index >= 0:\n",
        "        reversed_s += s[index]\n",
        "        index -= 1\n",
        "    return reversed_s\n",
        "\n",
        "# Test\n",
        "print(reverse_string(\"hello\"))  # Output: \"olleh\"\n"
      ],
      "metadata": {
        "colab": {
          "base_uri": "https://localhost:8080/"
        },
        "id": "fnUeR2YHoSjg",
        "outputId": "259b9c2f-1670-4b64-fa49-36bf74f3cbf6"
      },
      "execution_count": 3,
      "outputs": [
        {
          "output_type": "stream",
          "name": "stdout",
          "text": [
            "olleh\n"
          ]
        }
      ]
    },
    {
      "cell_type": "markdown",
      "source": [
        "## using stack"
      ],
      "metadata": {
        "id": "FAOhVuCJoU1o"
      }
    },
    {
      "cell_type": "code",
      "source": [
        "def reverse_string(s):\n",
        "    stack = []\n",
        "    for char in s:\n",
        "        stack.append(char)\n",
        "    reversed_s = \"\"\n",
        "    while stack:\n",
        "        reversed_s += stack.pop()\n",
        "    return reversed_s\n",
        "\n",
        "# Test\n",
        "print(reverse_string(\"hello\"))  # Output: \"olleh\"\n"
      ],
      "metadata": {
        "colab": {
          "base_uri": "https://localhost:8080/"
        },
        "id": "a19ElB-BoYms",
        "outputId": "c9a44232-6873-4e5b-aabb-6e9a2a39f66e"
      },
      "execution_count": 4,
      "outputs": [
        {
          "output_type": "stream",
          "name": "stdout",
          "text": [
            "olleh\n"
          ]
        }
      ]
    },
    {
      "cell_type": "markdown",
      "source": [
        "## using recursion"
      ],
      "metadata": {
        "id": "pDXnj2AdoZ5H"
      }
    },
    {
      "cell_type": "code",
      "source": [
        "def reverse_string(s):\n",
        "    if len(s) == 0:\n",
        "        return s\n",
        "    return reverse_string(s[1:]) + s[0]\n",
        "\n",
        "# Test\n",
        "print(reverse_string(\"hello\"))  # Output: \"olleh\"\n"
      ],
      "metadata": {
        "colab": {
          "base_uri": "https://localhost:8080/"
        },
        "id": "nEMMoNRdoZG4",
        "outputId": "fa699fa7-8d87-4524-b6e7-3c319c40e05f"
      },
      "execution_count": 5,
      "outputs": [
        {
          "output_type": "stream",
          "name": "stdout",
          "text": [
            "olleh\n"
          ]
        }
      ]
    }
  ]
}
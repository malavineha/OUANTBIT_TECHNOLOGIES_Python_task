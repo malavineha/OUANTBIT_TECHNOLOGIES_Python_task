{
  "nbformat": 4,
  "nbformat_minor": 0,
  "metadata": {
    "colab": {
      "provenance": []
    },
    "kernelspec": {
      "name": "python3",
      "display_name": "Python 3"
    },
    "language_info": {
      "name": "python"
    }
  },
  "cells": [
    {
      "cell_type": "code",
      "source": [
        "file_path = \"numbers.txt\""
      ],
      "metadata": {
        "id": "yNFToq8Bwo4u"
      },
      "execution_count": 4,
      "outputs": []
    },
    {
      "cell_type": "markdown",
      "source": [
        "## using for loop and read file"
      ],
      "metadata": {
        "id": "ME6WtxXRwbDO"
      }
    },
    {
      "cell_type": "code",
      "execution_count": 9,
      "metadata": {
        "colab": {
          "base_uri": "https://localhost:8080/"
        },
        "id": "8ouVeb-gvYng",
        "outputId": "80d97ff3-a837-4ed7-d62d-f06f87cab3e6"
      },
      "outputs": [
        {
          "output_type": "stream",
          "name": "stdout",
          "text": [
            "Sum: 58\n"
          ]
        }
      ],
      "source": [
        "def calculate_sum(file_path):\n",
        "    total = 0\n",
        "    with open(file_path, 'r') as file:\n",
        "        for line in file:\n",
        "            total += int(line.strip())\n",
        "    return total\n",
        "\n",
        "print(\"Sum:\", calculate_sum(file_path))\n"
      ]
    },
    {
      "cell_type": "markdown",
      "source": [
        "## using readlines"
      ],
      "metadata": {
        "id": "PJxbD_FZwgLU"
      }
    },
    {
      "cell_type": "code",
      "source": [
        "def calculate_sum(file_path):\n",
        "    with open(file_path, 'r') as file:\n",
        "        lines = file.readlines()\n",
        "    return sum(int(line.strip()) for line in lines)\n",
        "\n",
        "\n",
        "print(\"Sum:\", calculate_sum(file_path))\n"
      ],
      "metadata": {
        "colab": {
          "base_uri": "https://localhost:8080/"
        },
        "id": "QO8LniygwkT5",
        "outputId": "d54e145d-78b1-4780-ca1c-a931483b2de9"
      },
      "execution_count": 8,
      "outputs": [
        {
          "output_type": "stream",
          "name": "stdout",
          "text": [
            "Sum: 58\n"
          ]
        }
      ]
    },
    {
      "cell_type": "markdown",
      "source": [
        "## using map function"
      ],
      "metadata": {
        "id": "5-Ch3e1Hw5_u"
      }
    },
    {
      "cell_type": "code",
      "source": [
        "def calculate_sum(file_path):\n",
        "    with open(file_path, 'r') as file:\n",
        "        return sum(map(int, file))\n",
        "\n",
        "print(\"Sum:\", calculate_sum(file_path))\n"
      ],
      "metadata": {
        "colab": {
          "base_uri": "https://localhost:8080/"
        },
        "id": "BNUOChW6wzOp",
        "outputId": "f0d288be-ac1f-47e3-9678-ce5b569d62cc"
      },
      "execution_count": 10,
      "outputs": [
        {
          "output_type": "stream",
          "name": "stdout",
          "text": [
            "Sum: 58\n"
          ]
        }
      ]
    },
    {
      "cell_type": "markdown",
      "source": [
        "## using while loop"
      ],
      "metadata": {
        "id": "2U1k8TNLw_GO"
      }
    },
    {
      "cell_type": "code",
      "source": [
        "def calculate_sum(file_path):\n",
        "    total = 0\n",
        "    with open(file_path, 'r') as file:\n",
        "        line = file.readline()\n",
        "        while line:\n",
        "            total += int(line.strip())\n",
        "            line = file.readline()\n",
        "    return total\n",
        "print(\"Sum:\", calculate_sum(file_path))  # Output: 58\n"
      ],
      "metadata": {
        "colab": {
          "base_uri": "https://localhost:8080/"
        },
        "id": "B_KOtZOZxExb",
        "outputId": "98fe976a-edfe-4afd-8552-5429f231bb8c"
      },
      "execution_count": 11,
      "outputs": [
        {
          "output_type": "stream",
          "name": "stdout",
          "text": [
            "Sum: 58\n"
          ]
        }
      ]
    }
  ]
}
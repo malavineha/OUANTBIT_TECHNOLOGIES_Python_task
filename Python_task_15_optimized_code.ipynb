{
  "nbformat": 4,
  "nbformat_minor": 0,
  "metadata": {
    "colab": {
      "provenance": []
    },
    "kernelspec": {
      "name": "python3",
      "display_name": "Python 3"
    },
    "language_info": {
      "name": "python"
    }
  },
  "cells": [
    {
      "cell_type": "code",
      "execution_count": null,
      "metadata": {
        "id": "3VuUCbBgRJlc"
      },
      "outputs": [],
      "source": [
        "def optimized_code(numbers):\n",
        "    if not numbers:\n",
        "        return \"No numbers provided.\"\n",
        "\n",
        "    result = []\n",
        "\n",
        "    # Calculate squares of even numbers\n",
        "    squares = [f\"Square of {num} is {num * num}\" for num in numbers if num % 2 == 0]\n",
        "    result.extend(squares)\n",
        "\n",
        "    # Find the maximum number\n",
        "    max_num = max(numbers)\n",
        "    result.append(f\"\\nMax number is {max_num}\")\n",
        "\n",
        "    # Count the occurrences of each number\n",
        "    from collections import Counter\n",
        "    count_dict = Counter(numbers)\n",
        "    result.append(\"Number counts:\")\n",
        "    result.extend([f\"{num}: {count}\" for num, count in count_dict.items()])\n",
        "\n",
        "    return \"\\n\".join(result)\n"
      ]
    },
    {
      "cell_type": "code",
      "source": [
        "numbers = [2, 4, 6, 2, 8, 4, 6]\n",
        "print(optimized_code(numbers))\n"
      ],
      "metadata": {
        "id": "0hNzts3kRmHd",
        "outputId": "c183aa5c-5fa8-4b36-b78f-ebf0c9b678cc",
        "colab": {
          "base_uri": "https://localhost:8080/"
        }
      },
      "execution_count": 2,
      "outputs": [
        {
          "output_type": "stream",
          "name": "stdout",
          "text": [
            "Square of 2 is 4\n",
            "Square of 4 is 16\n",
            "Square of 6 is 36\n",
            "Square of 2 is 4\n",
            "Square of 8 is 64\n",
            "Square of 4 is 16\n",
            "Square of 6 is 36\n",
            "\n",
            "Max number is 8\n",
            "Number counts:\n",
            "2: 2\n",
            "4: 2\n",
            "6: 2\n",
            "8: 1\n"
          ]
        }
      ]
    }
  ]
}
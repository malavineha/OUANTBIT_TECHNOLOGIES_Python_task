{
  "nbformat": 4,
  "nbformat_minor": 0,
  "metadata": {
    "colab": {
      "provenance": []
    },
    "kernelspec": {
      "name": "python3",
      "display_name": "Python 3"
    },
    "language_info": {
      "name": "python"
    }
  },
  "cells": [
    {
      "cell_type": "code",
      "execution_count": 1,
      "metadata": {
        "id": "e2s5SWlKyieG"
      },
      "outputs": [],
      "source": [
        "class BankAccount:\n",
        "    def __init__(self):\n",
        "        self.balance = 0\n",
        "\n",
        "    def deposit(self, amount):\n",
        "        self.balance += amount\n",
        "        print(f\"Balance after deposit: {self.balance}\")\n",
        "\n",
        "    def withdraw(self, amount):\n",
        "        if amount > self.balance:\n",
        "            print(\"Insufficient balance!\")\n",
        "        else:\n",
        "            self.balance -= amount\n",
        "            print(f\"Balance after withdrawal: {self.balance}\")\n",
        "\n",
        "    def get_balance(self):\n",
        "        print(f\"Current balance: {self.balance}\")\n",
        "        return self.balance"
      ]
    },
    {
      "cell_type": "code",
      "source": [
        "account = BankAccount()\n",
        "account.deposit(1000)\n",
        "account.withdraw(200)\n",
        "account.get_balance()"
      ],
      "metadata": {
        "colab": {
          "base_uri": "https://localhost:8080/"
        },
        "id": "4M5wJXa9zCX1",
        "outputId": "4bc12031-1410-45d1-ce3e-b6bc8446142b"
      },
      "execution_count": 2,
      "outputs": [
        {
          "output_type": "stream",
          "name": "stdout",
          "text": [
            "Balance after deposit: 1000\n",
            "Balance after withdrawal: 800\n",
            "Current balance: 800\n"
          ]
        },
        {
          "output_type": "execute_result",
          "data": {
            "text/plain": [
              "800"
            ]
          },
          "metadata": {},
          "execution_count": 2
        }
      ]
    }
  ]
}
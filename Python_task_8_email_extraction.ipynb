{
  "nbformat": 4,
  "nbformat_minor": 0,
  "metadata": {
    "colab": {
      "provenance": []
    },
    "kernelspec": {
      "name": "python3",
      "display_name": "Python 3"
    },
    "language_info": {
      "name": "python"
    }
  },
  "cells": [
    {
      "cell_type": "code",
      "execution_count": 1,
      "metadata": {
        "id": "IAwCv-S_1_Cu"
      },
      "outputs": [],
      "source": [
        "import re\n",
        "\n",
        "def extract_emails(file_path):\n",
        "    try:\n",
        "        with open(file_path, 'r') as file:\n",
        "            content = file.read()\n",
        "            emails = re.findall(r'[a-zA-Z0-9._%+-]+@[a-zA-Z0-9.-]+\\.[a-zA-Z]{2,}', content)\n",
        "            return emails\n",
        "    except FileNotFoundError:\n",
        "        print(\"File not found!\")\n",
        "        return []"
      ]
    },
    {
      "cell_type": "code",
      "source": [
        "file_path = 'emails.txt'\n",
        "emails = extract_emails(file_path)\n",
        "print(emails)"
      ],
      "metadata": {
        "colab": {
          "base_uri": "https://localhost:8080/"
        },
        "id": "nIy_Tuvc2ZeY",
        "outputId": "dc44b794-e90e-43ee-f321-435157470235"
      },
      "execution_count": 3,
      "outputs": [
        {
          "output_type": "stream",
          "name": "stdout",
          "text": [
            "['support@example.com', 'admin@example.org']\n"
          ]
        }
      ]
    }
  ]
}
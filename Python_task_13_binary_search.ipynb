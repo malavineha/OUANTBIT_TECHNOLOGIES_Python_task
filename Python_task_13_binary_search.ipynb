{
  "nbformat": 4,
  "nbformat_minor": 0,
  "metadata": {
    "colab": {
      "provenance": []
    },
    "kernelspec": {
      "name": "python3",
      "display_name": "Python 3"
    },
    "language_info": {
      "name": "python"
    }
  },
  "cells": [
    {
      "cell_type": "markdown",
      "source": [
        "## binary_search"
      ],
      "metadata": {
        "id": "Iz0Bq_XfAbBn"
      }
    },
    {
      "cell_type": "code",
      "execution_count": 1,
      "metadata": {
        "id": "gC2L8aDQ8DKL"
      },
      "outputs": [],
      "source": [
        "def binary_search_iterative(arr, target):\n",
        "    low = 0\n",
        "    high = len(arr) - 1\n",
        "\n",
        "    while low <= high:\n",
        "        mid = (low + high) // 2\n",
        "\n",
        "        if arr[mid] == target:\n",
        "            return f\"Found at index {mid}\"\n",
        "        elif arr[mid] < target:\n",
        "            low = mid + 1\n",
        "        else:\n",
        "            high = mid - 1\n",
        "\n",
        "    return \"Not Found\""
      ]
    },
    {
      "cell_type": "code",
      "source": [
        "arr = [1, 3, 5, 7, 9]\n",
        "target = 7\n",
        "print(binary_search_iterative(arr, target))"
      ],
      "metadata": {
        "colab": {
          "base_uri": "https://localhost:8080/"
        },
        "id": "Z1JTdgL0ANba",
        "outputId": "a686cbcf-3bb2-4dcf-88ee-e5010296dfab"
      },
      "execution_count": 2,
      "outputs": [
        {
          "output_type": "stream",
          "name": "stdout",
          "text": [
            "Found at index 3\n"
          ]
        }
      ]
    }
  ]
}
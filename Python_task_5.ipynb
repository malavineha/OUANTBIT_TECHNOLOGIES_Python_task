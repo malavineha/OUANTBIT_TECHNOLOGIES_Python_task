{
  "nbformat": 4,
  "nbformat_minor": 0,
  "metadata": {
    "colab": {
      "provenance": []
    },
    "kernelspec": {
      "name": "python3",
      "display_name": "Python 3"
    },
    "language_info": {
      "name": "python"
    }
  },
  "cells": [
    {
      "cell_type": "markdown",
      "source": [
        "## using try catch"
      ],
      "metadata": {
        "id": "fxJ-0wxI0cdM"
      }
    },
    {
      "cell_type": "code",
      "execution_count": 4,
      "metadata": {
        "colab": {
          "base_uri": "https://localhost:8080/"
        },
        "id": "TAFWbHuo0a3k",
        "outputId": "4bffd798-881a-4aad-a101-a29afb380c2d"
      },
      "outputs": [
        {
          "output_type": "stream",
          "name": "stdout",
          "text": [
            "Enter a number: 1452\n",
            "You entered: 1452 which is number\n"
          ]
        }
      ],
      "source": [
        "def validate_input():\n",
        "    user_input = input(\"Enter a number: \")\n",
        "    try:\n",
        "        number = int(user_input)\n",
        "        print(f\"You entered: {number} which is number\")\n",
        "    except ValueError:\n",
        "        print(\"Invalid input. Please enter a number.\")\n",
        "\n",
        "validate_input()\n"
      ]
    },
    {
      "cell_type": "markdown",
      "source": [
        "## using isdigit method"
      ],
      "metadata": {
        "id": "Diz41mhn0imt"
      }
    },
    {
      "cell_type": "code",
      "source": [
        "def validate_input():\n",
        "    user_input = input(\"Enter a number: \")\n",
        "    if user_input.isdigit():\n",
        "        print(f\"You entered: {int(user_input)} which is a number\")\n",
        "    else:\n",
        "        print(\"Invalid input. Please enter a number.\")\n",
        "validate_input()\n"
      ],
      "metadata": {
        "colab": {
          "base_uri": "https://localhost:8080/"
        },
        "id": "fbjEkJA90ep6",
        "outputId": "ae79ae3b-7630-49eb-fea2-3ee5c4c5a226"
      },
      "execution_count": 6,
      "outputs": [
        {
          "output_type": "stream",
          "name": "stdout",
          "text": [
            "Enter a number: 145\n",
            "You entered: 145 which is a number\n"
          ]
        }
      ]
    }
  ]
}
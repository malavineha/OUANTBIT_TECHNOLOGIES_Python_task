{
  "nbformat": 4,
  "nbformat_minor": 0,
  "metadata": {
    "colab": {
      "provenance": []
    },
    "kernelspec": {
      "name": "python3",
      "display_name": "Python 3"
    },
    "language_info": {
      "name": "python"
    }
  },
  "cells": [
    {
      "cell_type": "markdown",
      "source": [
        "## using sorting"
      ],
      "metadata": {
        "id": "Ri1PnDLGx4Sx"
      }
    },
    {
      "cell_type": "code",
      "execution_count": 1,
      "metadata": {
        "colab": {
          "base_uri": "https://localhost:8080/"
        },
        "id": "o8YN6vOZxVWL",
        "outputId": "4719c48d-a982-4f8d-f0d5-1f9d9d1fe271"
      },
      "outputs": [
        {
          "output_type": "stream",
          "name": "stdout",
          "text": [
            "Second Largest: 45\n"
          ]
        }
      ],
      "source": [
        "def second_largest(nums):\n",
        "    nums.sort(reverse=True)\n",
        "    return nums[1]\n",
        "\n",
        "# Test\n",
        "nums = [10, 20, 4, 45, 99]\n",
        "print(\"Second Largest:\", second_largest(nums))\n"
      ]
    },
    {
      "cell_type": "markdown",
      "source": [
        "## using loop"
      ],
      "metadata": {
        "id": "AqSCEZ-2x_No"
      }
    },
    {
      "cell_type": "code",
      "source": [
        "def second_largest(nums):\n",
        "    largest = second = float('-inf')\n",
        "    for num in nums:\n",
        "        if num > largest:\n",
        "            second = largest\n",
        "            largest = num\n",
        "        elif num > second and num != largest:\n",
        "            second = num\n",
        "    return second\n",
        "\n",
        "# Test\n",
        "nums = [10, 20, 4, 45, 99]\n",
        "print(\"Second Largest:\", second_largest(nums))\n"
      ],
      "metadata": {
        "colab": {
          "base_uri": "https://localhost:8080/"
        },
        "id": "DiIp1wsVyBYJ",
        "outputId": "1478e7e4-dfed-4873-81d6-0400e62f0087"
      },
      "execution_count": 2,
      "outputs": [
        {
          "output_type": "stream",
          "name": "stdout",
          "text": [
            "Second Largest: 45\n"
          ]
        }
      ]
    },
    {
      "cell_type": "markdown",
      "source": [
        "## using list Comprehension"
      ],
      "metadata": {
        "id": "o_ROn2SryK6d"
      }
    },
    {
      "cell_type": "code",
      "source": [
        "def second_largest(nums):\n",
        "    largest = max(nums)\n",
        "    return max(num for num in nums if num != largest)\n",
        "\n",
        "# Test\n",
        "nums = [10, 20, 4, 45, 99]\n",
        "print(\"Second Largest:\", second_largest(nums))\n"
      ],
      "metadata": {
        "colab": {
          "base_uri": "https://localhost:8080/"
        },
        "id": "RNHDcjKWyGYz",
        "outputId": "bb60054d-431c-4402-d2ac-1b5e8c13ee5c"
      },
      "execution_count": 4,
      "outputs": [
        {
          "output_type": "stream",
          "name": "stdout",
          "text": [
            "Second Largest: 45\n"
          ]
        }
      ]
    }
  ]
}